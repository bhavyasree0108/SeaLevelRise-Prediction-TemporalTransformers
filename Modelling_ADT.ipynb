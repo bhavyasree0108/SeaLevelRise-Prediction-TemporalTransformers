{
 "cells": [
  {
   "cell_type": "code",
   "execution_count": 1,
   "id": "cf04416f",
   "metadata": {},
   "outputs": [
    {
     "name": "stderr",
     "output_type": "stream",
     "text": [
      "2024-04-04 03:57:32.983078: E external/local_xla/xla/stream_executor/cuda/cuda_dnn.cc:9261] Unable to register cuDNN factory: Attempting to register factory for plugin cuDNN when one has already been registered\n",
      "2024-04-04 03:57:32.983114: E external/local_xla/xla/stream_executor/cuda/cuda_fft.cc:607] Unable to register cuFFT factory: Attempting to register factory for plugin cuFFT when one has already been registered\n",
      "2024-04-04 03:57:32.984199: E external/local_xla/xla/stream_executor/cuda/cuda_blas.cc:1515] Unable to register cuBLAS factory: Attempting to register factory for plugin cuBLAS when one has already been registered\n",
      "2024-04-04 03:57:32.989243: I tensorflow/core/platform/cpu_feature_guard.cc:182] This TensorFlow binary is optimized to use available CPU instructions in performance-critical operations.\n",
      "To enable the following instructions: AVX2 FMA, in other operations, rebuild TensorFlow with the appropriate compiler flags.\n",
      "2024-04-04 03:57:33.674045: W tensorflow/compiler/tf2tensorrt/utils/py_utils.cc:38] TF-TRT Warning: Could not find TensorRT\n"
     ]
    }
   ],
   "source": [
    "import warnings\n",
    "warnings.filterwarnings(\"ignore\")\n",
    "import pandas as pd\n",
    "import numpy as np\n",
    "import matplotlib.pyplot as plt\n",
    "import seaborn as sns\n",
    "import os\n",
    "import copy\n",
    "import torch\n",
    "import lightning.pytorch as pl\n",
    "\n",
    "from pathlib import Path\n",
    "from lightning.pytorch.callbacks import EarlyStopping, LearningRateMonitor\n",
    "from lightning.pytorch.loggers import TensorBoardLogger\n",
    "\n",
    "from pytorch_forecasting import Baseline, TemporalFusionTransformer, TimeSeriesDataSet, NaNLabelEncoder\n",
    "from pytorch_forecasting.data import GroupNormalizer, MultiNormalizer, EncoderNormalizer, TorchNormalizer\n",
    "from pytorch_forecasting.metrics import MAE, SMAPE, PoissonLoss, QuantileLoss\n",
    "from pytorch_forecasting.models.temporal_fusion_transformer.tuning import optimize_hyperparameters"
   ]
  },
  {
   "cell_type": "code",
   "execution_count": 2,
   "id": "41eed8be",
   "metadata": {},
   "outputs": [],
   "source": [
    "df = pd.read_csv(\"Maldives_data_1.csv\")"
   ]
  },
  {
   "cell_type": "code",
   "execution_count": 3,
   "id": "1e015456",
   "metadata": {},
   "outputs": [],
   "source": [
    "df['err_vgosa'].fillna(int(df['err_vgosa'].mean()), inplace=True)\n",
    "df['err_ugosa'].fillna(int(df['err_ugosa'].mean()), inplace=True)"
   ]
  },
  {
   "cell_type": "code",
   "execution_count": 4,
   "id": "2f3a4e29",
   "metadata": {},
   "outputs": [
    {
     "data": {
      "text/html": [
       "<div>\n",
       "<style scoped>\n",
       "    .dataframe tbody tr th:only-of-type {\n",
       "        vertical-align: middle;\n",
       "    }\n",
       "\n",
       "    .dataframe tbody tr th {\n",
       "        vertical-align: top;\n",
       "    }\n",
       "\n",
       "    .dataframe thead th {\n",
       "        text-align: right;\n",
       "    }\n",
       "</style>\n",
       "<table border=\"1\" class=\"dataframe\">\n",
       "  <thead>\n",
       "    <tr style=\"text-align: right;\">\n",
       "      <th></th>\n",
       "      <th>time</th>\n",
       "      <th>latitude</th>\n",
       "      <th>longitude</th>\n",
       "      <th>adt</th>\n",
       "      <th>err_sla</th>\n",
       "      <th>err_ugosa</th>\n",
       "      <th>err_vgosa</th>\n",
       "      <th>flag_ice</th>\n",
       "      <th>sla</th>\n",
       "      <th>tpa_correction</th>\n",
       "      <th>ugos</th>\n",
       "      <th>ugosa</th>\n",
       "      <th>vgos</th>\n",
       "      <th>vgosa</th>\n",
       "    </tr>\n",
       "  </thead>\n",
       "  <tbody>\n",
       "    <tr>\n",
       "      <th>0</th>\n",
       "      <td>1993-01-01</td>\n",
       "      <td>0.875</td>\n",
       "      <td>72.875</td>\n",
       "      <td>0.7483</td>\n",
       "      <td>0.0162</td>\n",
       "      <td>0.0</td>\n",
       "      <td>0.0</td>\n",
       "      <td>0.0</td>\n",
       "      <td>-0.0171</td>\n",
       "      <td>0.0061</td>\n",
       "      <td>-0.2200</td>\n",
       "      <td>-0.3054</td>\n",
       "      <td>-0.0533</td>\n",
       "      <td>-0.0791</td>\n",
       "    </tr>\n",
       "    <tr>\n",
       "      <th>1</th>\n",
       "      <td>1993-01-01</td>\n",
       "      <td>0.875</td>\n",
       "      <td>73.125</td>\n",
       "      <td>0.7443</td>\n",
       "      <td>0.0171</td>\n",
       "      <td>0.0</td>\n",
       "      <td>0.0</td>\n",
       "      <td>0.0</td>\n",
       "      <td>-0.0216</td>\n",
       "      <td>0.0061</td>\n",
       "      <td>-0.2363</td>\n",
       "      <td>-0.2918</td>\n",
       "      <td>-0.0089</td>\n",
       "      <td>-0.0454</td>\n",
       "    </tr>\n",
       "    <tr>\n",
       "      <th>2</th>\n",
       "      <td>1993-01-01</td>\n",
       "      <td>0.875</td>\n",
       "      <td>73.375</td>\n",
       "      <td>0.7455</td>\n",
       "      <td>0.0176</td>\n",
       "      <td>0.0</td>\n",
       "      <td>0.0</td>\n",
       "      <td>0.0</td>\n",
       "      <td>-0.0211</td>\n",
       "      <td>0.0061</td>\n",
       "      <td>-0.2631</td>\n",
       "      <td>-0.2803</td>\n",
       "      <td>0.1029</td>\n",
       "      <td>0.0581</td>\n",
       "    </tr>\n",
       "    <tr>\n",
       "      <th>3</th>\n",
       "      <td>1993-01-01</td>\n",
       "      <td>0.875</td>\n",
       "      <td>73.625</td>\n",
       "      <td>0.7508</td>\n",
       "      <td>0.0175</td>\n",
       "      <td>0.0</td>\n",
       "      <td>0.0</td>\n",
       "      <td>0.0</td>\n",
       "      <td>-0.0167</td>\n",
       "      <td>0.0061</td>\n",
       "      <td>-0.3532</td>\n",
       "      <td>-0.3364</td>\n",
       "      <td>0.1147</td>\n",
       "      <td>0.0674</td>\n",
       "    </tr>\n",
       "    <tr>\n",
       "      <th>4</th>\n",
       "      <td>1993-01-01</td>\n",
       "      <td>1.125</td>\n",
       "      <td>72.875</td>\n",
       "      <td>0.7471</td>\n",
       "      <td>0.0160</td>\n",
       "      <td>0.0</td>\n",
       "      <td>0.0</td>\n",
       "      <td>0.0</td>\n",
       "      <td>-0.0183</td>\n",
       "      <td>0.0061</td>\n",
       "      <td>-0.2254</td>\n",
       "      <td>-0.2747</td>\n",
       "      <td>0.0434</td>\n",
       "      <td>-0.0082</td>\n",
       "    </tr>\n",
       "  </tbody>\n",
       "</table>\n",
       "</div>"
      ],
      "text/plain": [
       "         time  latitude  longitude     adt  err_sla  err_ugosa  err_vgosa  \\\n",
       "0  1993-01-01     0.875     72.875  0.7483   0.0162        0.0        0.0   \n",
       "1  1993-01-01     0.875     73.125  0.7443   0.0171        0.0        0.0   \n",
       "2  1993-01-01     0.875     73.375  0.7455   0.0176        0.0        0.0   \n",
       "3  1993-01-01     0.875     73.625  0.7508   0.0175        0.0        0.0   \n",
       "4  1993-01-01     1.125     72.875  0.7471   0.0160        0.0        0.0   \n",
       "\n",
       "   flag_ice     sla  tpa_correction    ugos   ugosa    vgos   vgosa  \n",
       "0       0.0 -0.0171          0.0061 -0.2200 -0.3054 -0.0533 -0.0791  \n",
       "1       0.0 -0.0216          0.0061 -0.2363 -0.2918 -0.0089 -0.0454  \n",
       "2       0.0 -0.0211          0.0061 -0.2631 -0.2803  0.1029  0.0581  \n",
       "3       0.0 -0.0167          0.0061 -0.3532 -0.3364  0.1147  0.0674  \n",
       "4       0.0 -0.0183          0.0061 -0.2254 -0.2747  0.0434 -0.0082  "
      ]
     },
     "execution_count": 4,
     "metadata": {},
     "output_type": "execute_result"
    }
   ],
   "source": [
    "df.head()"
   ]
  },
  {
   "cell_type": "code",
   "execution_count": 5,
   "id": "71070aa9",
   "metadata": {},
   "outputs": [],
   "source": [
    "df['time'] = pd.to_datetime(df['time'])\n",
    "df = df.groupby('time', as_index=False).mean()\n"
   ]
  },
  {
   "cell_type": "code",
   "execution_count": 6,
   "id": "a6d85b73",
   "metadata": {},
   "outputs": [],
   "source": [
    "# df = df.groupby('time').mean()\n",
    "# df[\"time\"] = pd.to_datetime(df[\"time\"])\n",
    "df[\"time_idx\"] = (df[\"time\"] - df[\"time\"].min()).dt.days\n",
    "\n",
    "#df['flag_ice'] = df['flag_ice'].astype(str)"
   ]
  },
  {
   "cell_type": "code",
   "execution_count": 7,
   "id": "f0d7fb54",
   "metadata": {},
   "outputs": [],
   "source": [
    "df_test = df.iloc[-4000:, :]\n",
    "df_train = df.iloc[:-2000, :]"
   ]
  },
  {
   "cell_type": "code",
   "execution_count": 8,
   "id": "b5512d3c",
   "metadata": {},
   "outputs": [
    {
     "data": {
      "text/html": [
       "<div>\n",
       "<style scoped>\n",
       "    .dataframe tbody tr th:only-of-type {\n",
       "        vertical-align: middle;\n",
       "    }\n",
       "\n",
       "    .dataframe tbody tr th {\n",
       "        vertical-align: top;\n",
       "    }\n",
       "\n",
       "    .dataframe thead th {\n",
       "        text-align: right;\n",
       "    }\n",
       "</style>\n",
       "<table border=\"1\" class=\"dataframe\">\n",
       "  <thead>\n",
       "    <tr style=\"text-align: right;\">\n",
       "      <th></th>\n",
       "      <th>time</th>\n",
       "      <th>latitude</th>\n",
       "      <th>longitude</th>\n",
       "      <th>adt</th>\n",
       "      <th>err_sla</th>\n",
       "      <th>err_ugosa</th>\n",
       "      <th>err_vgosa</th>\n",
       "      <th>flag_ice</th>\n",
       "      <th>sla</th>\n",
       "      <th>tpa_correction</th>\n",
       "      <th>ugos</th>\n",
       "      <th>ugosa</th>\n",
       "      <th>vgos</th>\n",
       "      <th>vgosa</th>\n",
       "      <th>time_idx</th>\n",
       "    </tr>\n",
       "  </thead>\n",
       "  <tbody>\n",
       "    <tr>\n",
       "      <th>7115</th>\n",
       "      <td>2012-06-25</td>\n",
       "      <td>4.0</td>\n",
       "      <td>73.25</td>\n",
       "      <td>0.834694</td>\n",
       "      <td>0.018289</td>\n",
       "      <td>0.054005</td>\n",
       "      <td>0.044252</td>\n",
       "      <td>0.0</td>\n",
       "      <td>0.066555</td>\n",
       "      <td>0.0</td>\n",
       "      <td>0.102941</td>\n",
       "      <td>0.102708</td>\n",
       "      <td>0.008091</td>\n",
       "      <td>-0.032697</td>\n",
       "      <td>7115</td>\n",
       "    </tr>\n",
       "    <tr>\n",
       "      <th>7116</th>\n",
       "      <td>2012-06-26</td>\n",
       "      <td>4.0</td>\n",
       "      <td>73.25</td>\n",
       "      <td>0.832906</td>\n",
       "      <td>0.017065</td>\n",
       "      <td>0.051472</td>\n",
       "      <td>0.042899</td>\n",
       "      <td>0.0</td>\n",
       "      <td>0.064757</td>\n",
       "      <td>0.0</td>\n",
       "      <td>0.083844</td>\n",
       "      <td>0.083607</td>\n",
       "      <td>0.010971</td>\n",
       "      <td>-0.029819</td>\n",
       "      <td>7116</td>\n",
       "    </tr>\n",
       "    <tr>\n",
       "      <th>7117</th>\n",
       "      <td>2012-06-27</td>\n",
       "      <td>4.0</td>\n",
       "      <td>73.25</td>\n",
       "      <td>0.832719</td>\n",
       "      <td>0.015435</td>\n",
       "      <td>0.047782</td>\n",
       "      <td>0.041709</td>\n",
       "      <td>0.0</td>\n",
       "      <td>0.064573</td>\n",
       "      <td>0.0</td>\n",
       "      <td>0.065201</td>\n",
       "      <td>0.064961</td>\n",
       "      <td>0.017305</td>\n",
       "      <td>-0.023476</td>\n",
       "      <td>7117</td>\n",
       "    </tr>\n",
       "    <tr>\n",
       "      <th>7118</th>\n",
       "      <td>2012-06-28</td>\n",
       "      <td>4.0</td>\n",
       "      <td>73.25</td>\n",
       "      <td>0.833075</td>\n",
       "      <td>0.013763</td>\n",
       "      <td>0.043689</td>\n",
       "      <td>0.040829</td>\n",
       "      <td>0.0</td>\n",
       "      <td>0.064929</td>\n",
       "      <td>0.0</td>\n",
       "      <td>0.047855</td>\n",
       "      <td>0.047613</td>\n",
       "      <td>0.020590</td>\n",
       "      <td>-0.020192</td>\n",
       "      <td>7118</td>\n",
       "    </tr>\n",
       "    <tr>\n",
       "      <th>7119</th>\n",
       "      <td>2012-06-29</td>\n",
       "      <td>4.0</td>\n",
       "      <td>73.25</td>\n",
       "      <td>0.833434</td>\n",
       "      <td>0.012599</td>\n",
       "      <td>0.040481</td>\n",
       "      <td>0.040529</td>\n",
       "      <td>0.0</td>\n",
       "      <td>0.065289</td>\n",
       "      <td>0.0</td>\n",
       "      <td>0.031941</td>\n",
       "      <td>0.031706</td>\n",
       "      <td>0.034063</td>\n",
       "      <td>-0.006718</td>\n",
       "      <td>7119</td>\n",
       "    </tr>\n",
       "    <tr>\n",
       "      <th>...</th>\n",
       "      <td>...</td>\n",
       "      <td>...</td>\n",
       "      <td>...</td>\n",
       "      <td>...</td>\n",
       "      <td>...</td>\n",
       "      <td>...</td>\n",
       "      <td>...</td>\n",
       "      <td>...</td>\n",
       "      <td>...</td>\n",
       "      <td>...</td>\n",
       "      <td>...</td>\n",
       "      <td>...</td>\n",
       "      <td>...</td>\n",
       "      <td>...</td>\n",
       "      <td>...</td>\n",
       "    </tr>\n",
       "    <tr>\n",
       "      <th>11110</th>\n",
       "      <td>2023-06-03</td>\n",
       "      <td>4.0</td>\n",
       "      <td>73.25</td>\n",
       "      <td>0.861658</td>\n",
       "      <td>0.012998</td>\n",
       "      <td>0.041313</td>\n",
       "      <td>0.040346</td>\n",
       "      <td>0.0</td>\n",
       "      <td>0.093507</td>\n",
       "      <td>0.0</td>\n",
       "      <td>0.081658</td>\n",
       "      <td>0.081419</td>\n",
       "      <td>-0.045218</td>\n",
       "      <td>-0.086004</td>\n",
       "      <td>11110</td>\n",
       "    </tr>\n",
       "    <tr>\n",
       "      <th>11111</th>\n",
       "      <td>2023-06-04</td>\n",
       "      <td>4.0</td>\n",
       "      <td>73.25</td>\n",
       "      <td>0.860913</td>\n",
       "      <td>0.012910</td>\n",
       "      <td>0.041553</td>\n",
       "      <td>0.040205</td>\n",
       "      <td>0.0</td>\n",
       "      <td>0.092765</td>\n",
       "      <td>0.0</td>\n",
       "      <td>0.081892</td>\n",
       "      <td>0.081655</td>\n",
       "      <td>-0.050830</td>\n",
       "      <td>-0.091613</td>\n",
       "      <td>11111</td>\n",
       "    </tr>\n",
       "    <tr>\n",
       "      <th>11112</th>\n",
       "      <td>2023-06-05</td>\n",
       "      <td>4.0</td>\n",
       "      <td>73.25</td>\n",
       "      <td>0.858514</td>\n",
       "      <td>0.012727</td>\n",
       "      <td>0.041506</td>\n",
       "      <td>0.039210</td>\n",
       "      <td>0.0</td>\n",
       "      <td>0.090363</td>\n",
       "      <td>0.0</td>\n",
       "      <td>0.079321</td>\n",
       "      <td>0.079082</td>\n",
       "      <td>-0.045461</td>\n",
       "      <td>-0.086249</td>\n",
       "      <td>11112</td>\n",
       "    </tr>\n",
       "    <tr>\n",
       "      <th>11113</th>\n",
       "      <td>2023-06-06</td>\n",
       "      <td>4.0</td>\n",
       "      <td>73.25</td>\n",
       "      <td>0.856376</td>\n",
       "      <td>0.012587</td>\n",
       "      <td>0.041400</td>\n",
       "      <td>0.038265</td>\n",
       "      <td>0.0</td>\n",
       "      <td>0.088230</td>\n",
       "      <td>0.0</td>\n",
       "      <td>0.077612</td>\n",
       "      <td>0.077375</td>\n",
       "      <td>-0.044802</td>\n",
       "      <td>-0.085580</td>\n",
       "      <td>11113</td>\n",
       "    </tr>\n",
       "    <tr>\n",
       "      <th>11114</th>\n",
       "      <td>2023-06-07</td>\n",
       "      <td>4.0</td>\n",
       "      <td>73.25</td>\n",
       "      <td>0.854349</td>\n",
       "      <td>0.012604</td>\n",
       "      <td>0.041488</td>\n",
       "      <td>0.038035</td>\n",
       "      <td>0.0</td>\n",
       "      <td>0.086199</td>\n",
       "      <td>0.0</td>\n",
       "      <td>0.075947</td>\n",
       "      <td>0.075710</td>\n",
       "      <td>-0.040992</td>\n",
       "      <td>-0.081775</td>\n",
       "      <td>11114</td>\n",
       "    </tr>\n",
       "  </tbody>\n",
       "</table>\n",
       "<p>4000 rows × 15 columns</p>\n",
       "</div>"
      ],
      "text/plain": [
       "            time  latitude  longitude       adt   err_sla  err_ugosa  \\\n",
       "7115  2012-06-25       4.0      73.25  0.834694  0.018289   0.054005   \n",
       "7116  2012-06-26       4.0      73.25  0.832906  0.017065   0.051472   \n",
       "7117  2012-06-27       4.0      73.25  0.832719  0.015435   0.047782   \n",
       "7118  2012-06-28       4.0      73.25  0.833075  0.013763   0.043689   \n",
       "7119  2012-06-29       4.0      73.25  0.833434  0.012599   0.040481   \n",
       "...          ...       ...        ...       ...       ...        ...   \n",
       "11110 2023-06-03       4.0      73.25  0.861658  0.012998   0.041313   \n",
       "11111 2023-06-04       4.0      73.25  0.860913  0.012910   0.041553   \n",
       "11112 2023-06-05       4.0      73.25  0.858514  0.012727   0.041506   \n",
       "11113 2023-06-06       4.0      73.25  0.856376  0.012587   0.041400   \n",
       "11114 2023-06-07       4.0      73.25  0.854349  0.012604   0.041488   \n",
       "\n",
       "       err_vgosa  flag_ice       sla  tpa_correction      ugos     ugosa  \\\n",
       "7115    0.044252       0.0  0.066555             0.0  0.102941  0.102708   \n",
       "7116    0.042899       0.0  0.064757             0.0  0.083844  0.083607   \n",
       "7117    0.041709       0.0  0.064573             0.0  0.065201  0.064961   \n",
       "7118    0.040829       0.0  0.064929             0.0  0.047855  0.047613   \n",
       "7119    0.040529       0.0  0.065289             0.0  0.031941  0.031706   \n",
       "...          ...       ...       ...             ...       ...       ...   \n",
       "11110   0.040346       0.0  0.093507             0.0  0.081658  0.081419   \n",
       "11111   0.040205       0.0  0.092765             0.0  0.081892  0.081655   \n",
       "11112   0.039210       0.0  0.090363             0.0  0.079321  0.079082   \n",
       "11113   0.038265       0.0  0.088230             0.0  0.077612  0.077375   \n",
       "11114   0.038035       0.0  0.086199             0.0  0.075947  0.075710   \n",
       "\n",
       "           vgos     vgosa  time_idx  \n",
       "7115   0.008091 -0.032697      7115  \n",
       "7116   0.010971 -0.029819      7116  \n",
       "7117   0.017305 -0.023476      7117  \n",
       "7118   0.020590 -0.020192      7118  \n",
       "7119   0.034063 -0.006718      7119  \n",
       "...         ...       ...       ...  \n",
       "11110 -0.045218 -0.086004     11110  \n",
       "11111 -0.050830 -0.091613     11111  \n",
       "11112 -0.045461 -0.086249     11112  \n",
       "11113 -0.044802 -0.085580     11113  \n",
       "11114 -0.040992 -0.081775     11114  \n",
       "\n",
       "[4000 rows x 15 columns]"
      ]
     },
     "execution_count": 8,
     "metadata": {},
     "output_type": "execute_result"
    }
   ],
   "source": [
    "df_test"
   ]
  },
  {
   "cell_type": "code",
   "execution_count": 10,
   "id": "c78f08b5",
   "metadata": {},
   "outputs": [],
   "source": [
    "max_prediction_length = 2000\n",
    "max_encoder_length = 2000\n",
    "\n",
    "training_cutoff = df_train[\"time_idx\"].max() - max_prediction_length\n",
    "\n",
    "time_varying_known_reals = ['time_idx','flag_ice','err_sla', 'ugosa', 'err_ugosa', 'vgosa', 'err_vgosa','sla', 'ugos', 'vgos']\n",
    "time_varying_unknown_reals = ['adt']\n",
    "\n",
    "\n",
    "training = TimeSeriesDataSet(\n",
    "    df[lambda x: x.time_idx <= training_cutoff],\n",
    "    time_idx=\"time_idx\",\n",
    "    target=\"adt\",\n",
    "    group_ids=[\"latitude\", \"longitude\"],\n",
    "    categorical_encoders={\n",
    "         \"latitude\": NaNLabelEncoder(add_nan=True).fit(df[\"latitude\"]),\n",
    "         \"longitude\": NaNLabelEncoder(add_nan=True).fit(df[\"longitude\"])\n",
    "     },\n",
    "    min_encoder_length=max_encoder_length // 2,\n",
    "    max_encoder_length=max_encoder_length,\n",
    "    min_prediction_length=1,\n",
    "    max_prediction_length=max_prediction_length,\n",
    "    static_reals=[\"latitude\",\"longitude\"],\n",
    "    time_varying_known_reals= time_varying_known_reals,\n",
    "    time_varying_unknown_reals= time_varying_unknown_reals,\n",
    "    target_normalizer=GroupNormalizer(), \n",
    "    add_relative_time_idx=True,\n",
    "    add_target_scales=True,\n",
    "    add_encoder_length=True,\n",
    ")\n",
    "\n",
    "\n",
    "testing = TimeSeriesDataSet(\n",
    "    df[lambda x: x.time_idx <= 2000],\n",
    "    time_idx=\"time_idx\",\n",
    "    target=\"adt\",\n",
    "    group_ids=[\"latitude\", \"longitude\"],\n",
    "    categorical_encoders={\n",
    "         \"latitude\": NaNLabelEncoder(add_nan=True).fit(df[\"latitude\"]),\n",
    "         \"longitude\": NaNLabelEncoder(add_nan=True).fit(df[\"longitude\"])\n",
    "     },\n",
    "    min_encoder_length=max_encoder_length // 2,\n",
    "    max_encoder_length=max_encoder_length,\n",
    "    min_prediction_length=1,\n",
    "    max_prediction_length=max_prediction_length,\n",
    "    static_reals=[\"latitude\",\"longitude\"],\n",
    "    time_varying_known_reals= time_varying_known_reals,\n",
    "    time_varying_unknown_reals= time_varying_unknown_reals,\n",
    "    target_normalizer=GroupNormalizer(), \n",
    "    add_relative_time_idx=True,\n",
    "    add_target_scales=True,\n",
    "    add_encoder_length=True,\n",
    ")\n",
    "\n",
    "validation = TimeSeriesDataSet.from_dataset(training, df_train, predict=True, stop_randomization=True)\n",
    "testing = TimeSeriesDataSet.from_dataset(testing, df_test, predict=True, stop_randomization=True)\n",
    "\n",
    "# create dataloaders for model\n",
    "batch_size = 40  # set this between 32 to 128\n",
    "train_dataloader = training.to_dataloader(train=True, batch_size=batch_size, num_workers=0)\n",
    "val_dataloader = validation.to_dataloader(train=False, batch_size=batch_size, num_workers=0)\n",
    "test_dataloader = testing.to_dataloader(train=False, batch_size=batch_size, num_workers=0)"
   ]
  },
  {
   "cell_type": "code",
   "execution_count": 11,
   "id": "2d67698c",
   "metadata": {},
   "outputs": [
    {
     "name": "stderr",
     "output_type": "stream",
     "text": [
      "Authorization required, but no authorization protocol specified\n",
      "Authorization required, but no authorization protocol specified\n",
      "Authorization required, but no authorization protocol specified\n",
      "LOCAL_RANK: 0 - CUDA_VISIBLE_DEVICES: [0,1]\n"
     ]
    },
    {
     "data": {
      "text/plain": [
       "tensor(0.0339, device='cuda:0')"
      ]
     },
     "execution_count": 11,
     "metadata": {},
     "output_type": "execute_result"
    }
   ],
   "source": [
    "# calculate baseline mean absolute error, i.e. predict next value as the last available value from the history\n",
    "baseline_predictions = Baseline().predict(val_dataloader, return_y=True)\n",
    "MAE()(baseline_predictions.output, baseline_predictions.y)"
   ]
  },
  {
   "cell_type": "code",
   "execution_count": 12,
   "id": "95909f4e",
   "metadata": {},
   "outputs": [
    {
     "name": "stdout",
     "output_type": "stream",
     "text": [
      "Mean Squared Error (MSE): 0.0018248849082738161\n",
      "Mean Absolute Percentage Error (MAPE): 4.015928506851196%\n"
     ]
    }
   ],
   "source": [
    "import numpy as np\n",
    "from sklearn.metrics import mean_squared_error\n",
    "\n",
    "# Assuming baseline_predictions.y and baseline_predictions.output are your tensors\n",
    "# First, move tensors to the CPU and convert them to NumPy arrays\n",
    "actuals = baseline_predictions.y[0].cpu().detach().numpy()\n",
    "predictions = baseline_predictions.output.cpu().detach().numpy()\n",
    "\n",
    "# Calculate MSE\n",
    "mse = mean_squared_error(actuals, predictions)\n",
    "print(f'Mean Squared Error (MSE): {mse}')\n",
    "\n",
    "# Calculate MAPE\n",
    "mape = np.mean(np.abs((actuals - predictions) / actuals)) * 100\n",
    "print(f'Mean Absolute Percentage Error (MAPE): {mape}%')"
   ]
  },
  {
   "cell_type": "code",
   "execution_count": 13,
   "id": "3c465cd8",
   "metadata": {},
   "outputs": [
    {
     "name": "stderr",
     "output_type": "stream",
     "text": [
      "LOCAL_RANK: 0 - CUDA_VISIBLE_DEVICES: [0,1]\n"
     ]
    },
    {
     "data": {
      "text/plain": [
       "tensor(0.0683, device='cuda:0')"
      ]
     },
     "execution_count": 13,
     "metadata": {},
     "output_type": "execute_result"
    }
   ],
   "source": [
    "baseline_predictions = Baseline().predict(test_dataloader, return_y=True)\n",
    "MAE()(baseline_predictions.output, baseline_predictions.y)"
   ]
  },
  {
   "cell_type": "code",
   "execution_count": 14,
   "id": "418d9bcc",
   "metadata": {},
   "outputs": [
    {
     "name": "stdout",
     "output_type": "stream",
     "text": [
      "Mean Squared Error (MSE): 0.006385440938174725\n",
      "Mean Absolute Percentage Error (MAPE): 7.634381204843521%\n"
     ]
    }
   ],
   "source": [
    "import numpy as np\n",
    "from sklearn.metrics import mean_squared_error\n",
    "\n",
    "# Assuming baseline_predictions.y and baseline_predictions.output are your tensors\n",
    "# First, move tensors to the CPU and convert them to NumPy arrays\n",
    "actuals = baseline_predictions.y[0].cpu().detach().numpy()\n",
    "predictions = baseline_predictions.output.cpu().detach().numpy()\n",
    "\n",
    "# Calculate MSE\n",
    "mse = mean_squared_error(actuals, predictions)\n",
    "print(f'Mean Squared Error (MSE): {mse}')\n",
    "\n",
    "# Calculate MAPE\n",
    "mape = np.mean(np.abs((actuals - predictions) / actuals)) * 100\n",
    "print(f'Mean Absolute Percentage Error (MAPE): {mape}%')"
   ]
  },
  {
   "cell_type": "code",
   "execution_count": 15,
   "id": "8411954a",
   "metadata": {},
   "outputs": [
    {
     "name": "stderr",
     "output_type": "stream",
     "text": [
      "Trainer will use only 1 of 2 GPUs because it is running inside an interactive / notebook environment. You may try to set `Trainer(devices=2)` but please note that multi-GPU inside interactive / notebook environments is considered experimental and unstable. Your mileage may vary.\n",
      "GPU available: True (cuda), used: True\n",
      "TPU available: False, using: 0 TPU cores\n",
      "IPU available: False, using: 0 IPUs\n",
      "HPU available: False, using: 0 HPUs\n"
     ]
    },
    {
     "name": "stdout",
     "output_type": "stream",
     "text": [
      "Number of parameters in network: 32.4k\n"
     ]
    }
   ],
   "source": [
    "early_stop_callback = EarlyStopping(monitor=\"val_loss\", min_delta=1e-4, patience=2, verbose=True, mode=\"min\")\n",
    "lr_logger = LearningRateMonitor()  # log the learning rate\n",
    "logger = TensorBoardLogger(\"lightning_logs\")  # logging results to a tensorboard\n",
    "\n",
    "\n",
    "trainer = pl.Trainer(\n",
    "    max_epochs=50,\n",
    "    accelerator=\"gpu\",\n",
    "    enable_model_summary=True,\n",
    "    gradient_clip_val=0.1,\n",
    "    limit_train_batches=50,  # coment in for training, running valiation every 30 batches\n",
    "    # fast_dev_run=True,  # comment in to check that networkor dataset has no serious bugs\n",
    "    callbacks=[lr_logger, early_stop_callback],\n",
    "    logger=logger,\n",
    ")\n",
    "\n",
    "tft = TemporalFusionTransformer.from_dataset(\n",
    "    training,\n",
    "    learning_rate=0.06,\n",
    "    hidden_size=16,\n",
    "    attention_head_size=2,\n",
    "    dropout=0.1,\n",
    "    hidden_continuous_size=8,\n",
    "    loss=QuantileLoss(),\n",
    "    log_interval=10,  # uncomment for learning rate finder and otherwise, e.g. to 10 for logging every 10 batches\n",
    "    optimizer=\"Ranger\",\n",
    "    reduce_on_plateau_patience=4,\n",
    ")\n",
    "print(f\"Number of parameters in network: {tft.size()/1e3:.1f}k\")\n",
    "#{'gradient_clip_val': 0.011513503769288051, 'hidden_size': 35, 'dropout': 0.14677661572735684, 'hidden_continuous_size': 18, 'attention_head_size': 1, 'learning_rate': 0.006695825026121554}"
   ]
  },
  {
   "cell_type": "code",
   "execution_count": 16,
   "id": "0678c761",
   "metadata": {
    "scrolled": true
   },
   "outputs": [
    {
     "name": "stderr",
     "output_type": "stream",
     "text": [
      "LOCAL_RANK: 0 - CUDA_VISIBLE_DEVICES: [0,1]\n",
      "\n",
      "   | Name                               | Type                            | Params\n",
      "----------------------------------------------------------------------------------------\n",
      "0  | loss                               | QuantileLoss                    | 0     \n",
      "1  | logging_metrics                    | ModuleList                      | 0     \n",
      "2  | input_embeddings                   | MultiEmbedding                  | 0     \n",
      "3  | prescalers                         | ModuleDict                      | 272   \n",
      "4  | static_variable_selection          | VariableSelectionNetwork        | 3.0 K \n",
      "5  | encoder_variable_selection         | VariableSelectionNetwork        | 8.2 K \n",
      "6  | decoder_variable_selection         | VariableSelectionNetwork        | 7.4 K \n",
      "7  | static_context_variable_selection  | GatedResidualNetwork            | 1.1 K \n",
      "8  | static_context_initial_hidden_lstm | GatedResidualNetwork            | 1.1 K \n",
      "9  | static_context_initial_cell_lstm   | GatedResidualNetwork            | 1.1 K \n",
      "10 | static_context_enrichment          | GatedResidualNetwork            | 1.1 K \n",
      "11 | lstm_encoder                       | LSTM                            | 2.2 K \n",
      "12 | lstm_decoder                       | LSTM                            | 2.2 K \n",
      "13 | post_lstm_gate_encoder             | GatedLinearUnit                 | 544   \n",
      "14 | post_lstm_add_norm_encoder         | AddNorm                         | 32    \n",
      "15 | static_enrichment                  | GatedResidualNetwork            | 1.4 K \n",
      "16 | multihead_attn                     | InterpretableMultiHeadAttention | 808   \n",
      "17 | post_attn_gate_norm                | GateAddNorm                     | 576   \n",
      "18 | pos_wise_ff                        | GatedResidualNetwork            | 1.1 K \n",
      "19 | pre_output_gate_norm               | GateAddNorm                     | 576   \n",
      "20 | output_layer                       | Linear                          | 119   \n",
      "----------------------------------------------------------------------------------------\n",
      "32.4 K    Trainable params\n",
      "0         Non-trainable params\n",
      "32.4 K    Total params\n",
      "0.130     Total estimated model params size (MB)\n"
     ]
    },
    {
     "data": {
      "application/vnd.jupyter.widget-view+json": {
       "model_id": "246f0cbee1e24762a9dee5050a08ae85",
       "version_major": 2,
       "version_minor": 0
      },
      "text/plain": [
       "Sanity Checking: |          | 0/? [00:00<?, ?it/s]"
      ]
     },
     "metadata": {},
     "output_type": "display_data"
    },
    {
     "data": {
      "application/vnd.jupyter.widget-view+json": {
       "model_id": "d7e4d5f4f9184fb8a19b016459da41a0",
       "version_major": 2,
       "version_minor": 0
      },
      "text/plain": [
       "Training: |          | 0/? [00:00<?, ?it/s]"
      ]
     },
     "metadata": {},
     "output_type": "display_data"
    },
    {
     "data": {
      "application/vnd.jupyter.widget-view+json": {
       "model_id": "2479cc41c6c3467a8598e69c954771d1",
       "version_major": 2,
       "version_minor": 0
      },
      "text/plain": [
       "Validation: |          | 0/? [00:00<?, ?it/s]"
      ]
     },
     "metadata": {},
     "output_type": "display_data"
    },
    {
     "name": "stderr",
     "output_type": "stream",
     "text": [
      "Metric val_loss improved. New best score: 0.018\n"
     ]
    },
    {
     "data": {
      "application/vnd.jupyter.widget-view+json": {
       "model_id": "5cb02f7ba6aa4bed8028aaa577cdda23",
       "version_major": 2,
       "version_minor": 0
      },
      "text/plain": [
       "Validation: |          | 0/? [00:00<?, ?it/s]"
      ]
     },
     "metadata": {},
     "output_type": "display_data"
    },
    {
     "name": "stderr",
     "output_type": "stream",
     "text": [
      "Metric val_loss improved by 0.008 >= min_delta = 0.0001. New best score: 0.010\n"
     ]
    },
    {
     "data": {
      "application/vnd.jupyter.widget-view+json": {
       "model_id": "fa50955c8c564323b007d1e4e824f8fc",
       "version_major": 2,
       "version_minor": 0
      },
      "text/plain": [
       "Validation: |          | 0/? [00:00<?, ?it/s]"
      ]
     },
     "metadata": {},
     "output_type": "display_data"
    },
    {
     "name": "stderr",
     "output_type": "stream",
     "text": [
      "Metric val_loss improved by 0.006 >= min_delta = 0.0001. New best score: 0.004\n"
     ]
    },
    {
     "data": {
      "application/vnd.jupyter.widget-view+json": {
       "model_id": "82b1e5cc6f244de292492e8427967342",
       "version_major": 2,
       "version_minor": 0
      },
      "text/plain": [
       "Validation: |          | 0/? [00:00<?, ?it/s]"
      ]
     },
     "metadata": {},
     "output_type": "display_data"
    },
    {
     "name": "stderr",
     "output_type": "stream",
     "text": [
      "Metric val_loss improved by 0.002 >= min_delta = 0.0001. New best score: 0.002\n"
     ]
    },
    {
     "data": {
      "application/vnd.jupyter.widget-view+json": {
       "model_id": "ce65bf7a9d1d476e89bad3a7c4417e6b",
       "version_major": 2,
       "version_minor": 0
      },
      "text/plain": [
       "Validation: |          | 0/? [00:00<?, ?it/s]"
      ]
     },
     "metadata": {},
     "output_type": "display_data"
    },
    {
     "data": {
      "application/vnd.jupyter.widget-view+json": {
       "model_id": "129211abcdf24a55afe36dcd3ac60dd4",
       "version_major": 2,
       "version_minor": 0
      },
      "text/plain": [
       "Validation: |          | 0/? [00:00<?, ?it/s]"
      ]
     },
     "metadata": {},
     "output_type": "display_data"
    },
    {
     "name": "stderr",
     "output_type": "stream",
     "text": [
      "Metric val_loss improved by 0.001 >= min_delta = 0.0001. New best score: 0.001\n"
     ]
    },
    {
     "data": {
      "application/vnd.jupyter.widget-view+json": {
       "model_id": "47019effef7645b092bda80aabbc347c",
       "version_major": 2,
       "version_minor": 0
      },
      "text/plain": [
       "Validation: |          | 0/? [00:00<?, ?it/s]"
      ]
     },
     "metadata": {},
     "output_type": "display_data"
    },
    {
     "data": {
      "application/vnd.jupyter.widget-view+json": {
       "model_id": "7563779e798c48d4b552cfb12086df87",
       "version_major": 2,
       "version_minor": 0
      },
      "text/plain": [
       "Validation: |          | 0/? [00:00<?, ?it/s]"
      ]
     },
     "metadata": {},
     "output_type": "display_data"
    },
    {
     "name": "stderr",
     "output_type": "stream",
     "text": [
      "Metric val_loss improved by 0.000 >= min_delta = 0.0001. New best score: 0.001\n"
     ]
    },
    {
     "data": {
      "application/vnd.jupyter.widget-view+json": {
       "model_id": "122aa94c866c47648d1c3ca376d49905",
       "version_major": 2,
       "version_minor": 0
      },
      "text/plain": [
       "Validation: |          | 0/? [00:00<?, ?it/s]"
      ]
     },
     "metadata": {},
     "output_type": "display_data"
    },
    {
     "data": {
      "application/vnd.jupyter.widget-view+json": {
       "model_id": "25acd99704b449beb06497233a50ab2e",
       "version_major": 2,
       "version_minor": 0
      },
      "text/plain": [
       "Validation: |          | 0/? [00:00<?, ?it/s]"
      ]
     },
     "metadata": {},
     "output_type": "display_data"
    },
    {
     "name": "stderr",
     "output_type": "stream",
     "text": [
      "Monitored metric val_loss did not improve in the last 2 records. Best score: 0.001. Signaling Trainer to stop.\n"
     ]
    }
   ],
   "source": [
    "trainer.fit(\n",
    "    tft,\n",
    "    train_dataloaders=train_dataloader,\n",
    "    val_dataloaders=val_dataloader,\n",
    "   \n",
    ")"
   ]
  },
  {
   "cell_type": "code",
   "execution_count": 17,
   "id": "f262f510",
   "metadata": {},
   "outputs": [
    {
     "data": {
      "text/plain": [
       "63951"
      ]
     },
     "execution_count": 17,
     "metadata": {},
     "output_type": "execute_result"
    }
   ],
   "source": [
    "import torch\n",
    "import gc\n",
    "\n",
    "# Manually clear cache and run garbage collector\n",
    "torch.cuda.empty_cache()\n",
    "gc.collect()\n"
   ]
  },
  {
   "cell_type": "code",
   "execution_count": 17,
   "id": "edc09889",
   "metadata": {},
   "outputs": [],
   "source": [
    "best_model_path = trainer.checkpoint_callback.best_model_path\n",
    "best_tft = TemporalFusionTransformer.load_from_checkpoint(best_model_path)"
   ]
  },
  {
   "cell_type": "code",
   "execution_count": 18,
   "id": "b38041c1",
   "metadata": {},
   "outputs": [
    {
     "data": {
      "text/plain": [
       "tensor(0.0025)"
      ]
     },
     "execution_count": 18,
     "metadata": {},
     "output_type": "execute_result"
    }
   ],
   "source": [
    "predictions = best_tft.predict(val_dataloader, return_y=True, trainer_kwargs=dict(accelerator=\"cpu\"))\n",
    "MAE()(predictions.output, predictions.y)\n"
   ]
  },
  {
   "cell_type": "code",
   "execution_count": 19,
   "id": "5ebe1b01",
   "metadata": {},
   "outputs": [
    {
     "name": "stdout",
     "output_type": "stream",
     "text": [
      "Mean Squared Error (MSE): 1.5099360098247416e-05\n",
      "Mean Absolute Percentage Error (MAPE): 0.29156478121876717%\n"
     ]
    }
   ],
   "source": [
    "\n",
    "# Assuming baseline_predictions.y and baseline_predictions.output are your tensors\n",
    "# First, move tensors to the CPU and convert them to NumPy arrays\n",
    "actuals = predictions.y[0].cpu().detach().numpy()\n",
    "predictions = predictions.output.cpu().detach().numpy()\n",
    "\n",
    "# Calculate MSE\n",
    "mse = mean_squared_error(actuals, predictions)\n",
    "print(f'Mean Squared Error (MSE): {mse}')\n",
    "\n",
    "# Calculate MAPE\n",
    "mape = np.mean(np.abs((actuals - predictions) / actuals)) * 100\n",
    "print(f'Mean Absolute Percentage Error (MAPE): {mape}%')"
   ]
  },
  {
   "cell_type": "code",
   "execution_count": 20,
   "id": "953da6f9",
   "metadata": {},
   "outputs": [
    {
     "data": {
      "text/plain": [
       "tensor(0.0137)"
      ]
     },
     "execution_count": 20,
     "metadata": {},
     "output_type": "execute_result"
    }
   ],
   "source": [
    "predictions = best_tft.predict(test_dataloader, return_y=True, trainer_kwargs=dict(accelerator=\"cpu\"))\n",
    "MAE()(predictions.output, predictions.y)"
   ]
  },
  {
   "cell_type": "code",
   "execution_count": 21,
   "id": "57a6c3dc",
   "metadata": {},
   "outputs": [
    {
     "name": "stdout",
     "output_type": "stream",
     "text": [
      "Mean Squared Error (MSE): 0.00035965797724202275\n",
      "Mean Absolute Percentage Error (MAPE): 1.520720962435007%\n"
     ]
    }
   ],
   "source": [
    "\n",
    "# Assuming baseline_predictions.y and baseline_predictions.output are your tensors\n",
    "# First, move tensors to the CPU and convert them to NumPy arrays\n",
    "actuals = predictions.y[0].cpu().detach().numpy()\n",
    "predictions = predictions.output.cpu().detach().numpy()\n",
    "\n",
    "# Calculate MSE\n",
    "mse = mean_squared_error(actuals, predictions)\n",
    "print(f'Mean Squared Error (MSE): {mse}')\n",
    "\n",
    "# Calculate MAPE\n",
    "mape = np.mean(np.abs((actuals - predictions) / actuals)) * 100\n",
    "print(f'Mean Absolute Percentage Error (MAPE): {mape}%')"
   ]
  },
  {
   "cell_type": "code",
   "execution_count": 22,
   "id": "e6d3451e",
   "metadata": {},
   "outputs": [
    {
     "name": "stderr",
     "output_type": "stream",
     "text": [
      "LOCAL_RANK: 0 - CUDA_VISIBLE_DEVICES: [0,1]\n"
     ]
    }
   ],
   "source": [
    "raw_predictions = best_tft.predict(val_dataloader, mode=\"raw\", return_x=True)"
   ]
  },
  {
   "cell_type": "code",
   "execution_count": 23,
   "id": "d28e02e8",
   "metadata": {},
   "outputs": [
    {
     "data": {
      "image/png": "[encoded data removed]",
      "text/plain": [
       "<Figure size 432x288 with 2 Axes>"
      ]
     },
     "execution_count": 23,
     "metadata": {},
     "output_type": "execute_result"
    },
    {
     "data": {
      "image/png": "[encoded data removed]",
      "text/plain": [
       "<Figure size 432x288 with 2 Axes>"
      ]
     },
     "metadata": {
      "needs_background": "light"
     },
     "output_type": "display_data"
    }
   ],
   "source": [
    "best_tft.plot_prediction(raw_predictions.x, raw_predictions.output, idx = 0, add_loss_to_title=True)"
   ]
  },
  {
   "cell_type": "code",
   "execution_count": 24,
   "id": "91292129",
   "metadata": {},
   "outputs": [],
   "source": [
    "df[\"time\"] = pd.to_datetime(df[\"time\"])\n",
    "df[\"time_idx\"] = (df[\"time\"] - df[\"time\"].min()).dt.days"
   ]
  },
  {
   "cell_type": "code",
   "execution_count": 42,
   "id": "86674185",
   "metadata": {},
   "outputs": [],
   "source": [
    "# select last 24 months from data (max_encoder_length is 24)\n",
    "encoder_data = df[lambda x: x.time_idx > x.time_idx.max() - max_encoder_length]\n",
    "\n",
    "# select last known data point and create decoder data from it by repeating it and incrementing the month\n",
    "# in a real world dataset, we should not just forward fill the covariates but specify them to account\n",
    "# for changes in special days and prices (which you absolutely should do but we are too lazy here)\n",
    "last_data = df[lambda x: x.time_idx == x.time_idx.max()]\n",
    "decoder_data = pd.concat(\n",
    "     [last_data.assign(time=lambda x: x.time + pd.offsets.Day(i)) for i in range(1, max_prediction_length + 1)],\n",
    "     ignore_index=True,\n",
    ")\n",
    "\n",
    "# add time index consistent with \"data\"\n",
    "decoder_data[\"time_idx\"] = (decoder_data[\"time\"] - decoder_data[\"time\"].min()).dt.days\n",
    "decoder_data[\"time_idx\"] += encoder_data[\"time_idx\"].max() + 1 - decoder_data[\"time_idx\"].min()\n",
    "\n",
    "# # adjust additional time feature(s)\n",
    "# decoder_data[\"month\"] = decoder_data.date.dt.month.astype(str).astype(\"category\")  # categories have be strings\n",
    "\n",
    "# combine encoder and decoder data\n",
    "new_prediction_data = pd.concat([encoder_data, decoder_data], ignore_index=True)"
   ]
  },
  {
   "cell_type": "code",
   "execution_count": 43,
   "id": "aa5d9399",
   "metadata": {
    "scrolled": true
   },
   "outputs": [
    {
     "data": {
      "text/html": [
       "<div>\n",
       "<style scoped>\n",
       "    .dataframe tbody tr th:only-of-type {\n",
       "        vertical-align: middle;\n",
       "    }\n",
       "\n",
       "    .dataframe tbody tr th {\n",
       "        vertical-align: top;\n",
       "    }\n",
       "\n",
       "    .dataframe thead th {\n",
       "        text-align: right;\n",
       "    }\n",
       "</style>\n",
       "<table border=\"1\" class=\"dataframe\">\n",
       "  <thead>\n",
       "    <tr style=\"text-align: right;\">\n",
       "      <th></th>\n",
       "      <th>time</th>\n",
       "      <th>latitude</th>\n",
       "      <th>longitude</th>\n",
       "      <th>adt</th>\n",
       "      <th>err_sla</th>\n",
       "      <th>err_ugosa</th>\n",
       "      <th>err_vgosa</th>\n",
       "      <th>flag_ice</th>\n",
       "      <th>sla</th>\n",
       "      <th>tpa_correction</th>\n",
       "      <th>ugos</th>\n",
       "      <th>ugosa</th>\n",
       "      <th>vgos</th>\n",
       "      <th>vgosa</th>\n",
       "      <th>time_idx</th>\n",
       "    </tr>\n",
       "  </thead>\n",
       "  <tbody>\n",
       "    <tr>\n",
       "      <th>0</th>\n",
       "      <td>2017-12-16</td>\n",
       "      <td>4.0</td>\n",
       "      <td>73.25</td>\n",
       "      <td>0.803222</td>\n",
       "      <td>0.014484</td>\n",
       "      <td>0.043463</td>\n",
       "      <td>0.037872</td>\n",
       "      <td>0.0</td>\n",
       "      <td>0.035070</td>\n",
       "      <td>0.0</td>\n",
       "      <td>-0.066050</td>\n",
       "      <td>-0.066286</td>\n",
       "      <td>0.100293</td>\n",
       "      <td>0.059507</td>\n",
       "      <td>9115</td>\n",
       "    </tr>\n",
       "    <tr>\n",
       "      <th>1</th>\n",
       "      <td>2017-12-17</td>\n",
       "      <td>4.0</td>\n",
       "      <td>73.25</td>\n",
       "      <td>0.801598</td>\n",
       "      <td>0.014562</td>\n",
       "      <td>0.045202</td>\n",
       "      <td>0.038429</td>\n",
       "      <td>0.0</td>\n",
       "      <td>0.033455</td>\n",
       "      <td>0.0</td>\n",
       "      <td>-0.077325</td>\n",
       "      <td>-0.077560</td>\n",
       "      <td>0.119237</td>\n",
       "      <td>0.078447</td>\n",
       "      <td>9116</td>\n",
       "    </tr>\n",
       "    <tr>\n",
       "      <th>2</th>\n",
       "      <td>2017-12-18</td>\n",
       "      <td>4.0</td>\n",
       "      <td>73.25</td>\n",
       "      <td>0.799764</td>\n",
       "      <td>0.014569</td>\n",
       "      <td>0.046453</td>\n",
       "      <td>0.039441</td>\n",
       "      <td>0.0</td>\n",
       "      <td>0.031611</td>\n",
       "      <td>0.0</td>\n",
       "      <td>-0.087590</td>\n",
       "      <td>-0.087833</td>\n",
       "      <td>0.127279</td>\n",
       "      <td>0.086493</td>\n",
       "      <td>9117</td>\n",
       "    </tr>\n",
       "    <tr>\n",
       "      <th>3</th>\n",
       "      <td>2017-12-19</td>\n",
       "      <td>4.0</td>\n",
       "      <td>73.25</td>\n",
       "      <td>0.798740</td>\n",
       "      <td>0.014519</td>\n",
       "      <td>0.046981</td>\n",
       "      <td>0.040786</td>\n",
       "      <td>0.0</td>\n",
       "      <td>0.030594</td>\n",
       "      <td>0.0</td>\n",
       "      <td>-0.098046</td>\n",
       "      <td>-0.098279</td>\n",
       "      <td>0.125068</td>\n",
       "      <td>0.084288</td>\n",
       "      <td>9118</td>\n",
       "    </tr>\n",
       "    <tr>\n",
       "      <th>4</th>\n",
       "      <td>2017-12-20</td>\n",
       "      <td>4.0</td>\n",
       "      <td>73.25</td>\n",
       "      <td>0.796725</td>\n",
       "      <td>0.014403</td>\n",
       "      <td>0.046912</td>\n",
       "      <td>0.041972</td>\n",
       "      <td>0.0</td>\n",
       "      <td>0.028582</td>\n",
       "      <td>0.0</td>\n",
       "      <td>-0.101471</td>\n",
       "      <td>-0.101712</td>\n",
       "      <td>0.136563</td>\n",
       "      <td>0.095782</td>\n",
       "      <td>9119</td>\n",
       "    </tr>\n",
       "    <tr>\n",
       "      <th>...</th>\n",
       "      <td>...</td>\n",
       "      <td>...</td>\n",
       "      <td>...</td>\n",
       "      <td>...</td>\n",
       "      <td>...</td>\n",
       "      <td>...</td>\n",
       "      <td>...</td>\n",
       "      <td>...</td>\n",
       "      <td>...</td>\n",
       "      <td>...</td>\n",
       "      <td>...</td>\n",
       "      <td>...</td>\n",
       "      <td>...</td>\n",
       "      <td>...</td>\n",
       "      <td>...</td>\n",
       "    </tr>\n",
       "    <tr>\n",
       "      <th>3995</th>\n",
       "      <td>2028-11-23</td>\n",
       "      <td>4.0</td>\n",
       "      <td>73.25</td>\n",
       "      <td>0.854349</td>\n",
       "      <td>0.012604</td>\n",
       "      <td>0.041488</td>\n",
       "      <td>0.038035</td>\n",
       "      <td>0.0</td>\n",
       "      <td>0.086199</td>\n",
       "      <td>0.0</td>\n",
       "      <td>0.075947</td>\n",
       "      <td>0.075710</td>\n",
       "      <td>-0.040992</td>\n",
       "      <td>-0.081775</td>\n",
       "      <td>13110</td>\n",
       "    </tr>\n",
       "    <tr>\n",
       "      <th>3996</th>\n",
       "      <td>2028-11-24</td>\n",
       "      <td>4.0</td>\n",
       "      <td>73.25</td>\n",
       "      <td>0.854349</td>\n",
       "      <td>0.012604</td>\n",
       "      <td>0.041488</td>\n",
       "      <td>0.038035</td>\n",
       "      <td>0.0</td>\n",
       "      <td>0.086199</td>\n",
       "      <td>0.0</td>\n",
       "      <td>0.075947</td>\n",
       "      <td>0.075710</td>\n",
       "      <td>-0.040992</td>\n",
       "      <td>-0.081775</td>\n",
       "      <td>13111</td>\n",
       "    </tr>\n",
       "    <tr>\n",
       "      <th>3997</th>\n",
       "      <td>2028-11-25</td>\n",
       "      <td>4.0</td>\n",
       "      <td>73.25</td>\n",
       "      <td>0.854349</td>\n",
       "      <td>0.012604</td>\n",
       "      <td>0.041488</td>\n",
       "      <td>0.038035</td>\n",
       "      <td>0.0</td>\n",
       "      <td>0.086199</td>\n",
       "      <td>0.0</td>\n",
       "      <td>0.075947</td>\n",
       "      <td>0.075710</td>\n",
       "      <td>-0.040992</td>\n",
       "      <td>-0.081775</td>\n",
       "      <td>13112</td>\n",
       "    </tr>\n",
       "    <tr>\n",
       "      <th>3998</th>\n",
       "      <td>2028-11-26</td>\n",
       "      <td>4.0</td>\n",
       "      <td>73.25</td>\n",
       "      <td>0.854349</td>\n",
       "      <td>0.012604</td>\n",
       "      <td>0.041488</td>\n",
       "      <td>0.038035</td>\n",
       "      <td>0.0</td>\n",
       "      <td>0.086199</td>\n",
       "      <td>0.0</td>\n",
       "      <td>0.075947</td>\n",
       "      <td>0.075710</td>\n",
       "      <td>-0.040992</td>\n",
       "      <td>-0.081775</td>\n",
       "      <td>13113</td>\n",
       "    </tr>\n",
       "    <tr>\n",
       "      <th>3999</th>\n",
       "      <td>2028-11-27</td>\n",
       "      <td>4.0</td>\n",
       "      <td>73.25</td>\n",
       "      <td>0.854349</td>\n",
       "      <td>0.012604</td>\n",
       "      <td>0.041488</td>\n",
       "      <td>0.038035</td>\n",
       "      <td>0.0</td>\n",
       "      <td>0.086199</td>\n",
       "      <td>0.0</td>\n",
       "      <td>0.075947</td>\n",
       "      <td>0.075710</td>\n",
       "      <td>-0.040992</td>\n",
       "      <td>-0.081775</td>\n",
       "      <td>13114</td>\n",
       "    </tr>\n",
       "  </tbody>\n",
       "</table>\n",
       "<p>4000 rows × 15 columns</p>\n",
       "</div>"
      ],
      "text/plain": [
       "           time  latitude  longitude       adt   err_sla  err_ugosa  \\\n",
       "0    2017-12-16       4.0      73.25  0.803222  0.014484   0.043463   \n",
       "1    2017-12-17       4.0      73.25  0.801598  0.014562   0.045202   \n",
       "2    2017-12-18       4.0      73.25  0.799764  0.014569   0.046453   \n",
       "3    2017-12-19       4.0      73.25  0.798740  0.014519   0.046981   \n",
       "4    2017-12-20       4.0      73.25  0.796725  0.014403   0.046912   \n",
       "...         ...       ...        ...       ...       ...        ...   \n",
       "3995 2028-11-23       4.0      73.25  0.854349  0.012604   0.041488   \n",
       "3996 2028-11-24       4.0      73.25  0.854349  0.012604   0.041488   \n",
       "3997 2028-11-25       4.0      73.25  0.854349  0.012604   0.041488   \n",
       "3998 2028-11-26       4.0      73.25  0.854349  0.012604   0.041488   \n",
       "3999 2028-11-27       4.0      73.25  0.854349  0.012604   0.041488   \n",
       "\n",
       "      err_vgosa  flag_ice       sla  tpa_correction      ugos     ugosa  \\\n",
       "0      0.037872       0.0  0.035070             0.0 -0.066050 -0.066286   \n",
       "1      0.038429       0.0  0.033455             0.0 -0.077325 -0.077560   \n",
       "2      0.039441       0.0  0.031611             0.0 -0.087590 -0.087833   \n",
       "3      0.040786       0.0  0.030594             0.0 -0.098046 -0.098279   \n",
       "4      0.041972       0.0  0.028582             0.0 -0.101471 -0.101712   \n",
       "...         ...       ...       ...             ...       ...       ...   \n",
       "3995   0.038035       0.0  0.086199             0.0  0.075947  0.075710   \n",
       "3996   0.038035       0.0  0.086199             0.0  0.075947  0.075710   \n",
       "3997   0.038035       0.0  0.086199             0.0  0.075947  0.075710   \n",
       "3998   0.038035       0.0  0.086199             0.0  0.075947  0.075710   \n",
       "3999   0.038035       0.0  0.086199             0.0  0.075947  0.075710   \n",
       "\n",
       "          vgos     vgosa  time_idx  \n",
       "0     0.100293  0.059507      9115  \n",
       "1     0.119237  0.078447      9116  \n",
       "2     0.127279  0.086493      9117  \n",
       "3     0.125068  0.084288      9118  \n",
       "4     0.136563  0.095782      9119  \n",
       "...        ...       ...       ...  \n",
       "3995 -0.040992 -0.081775     13110  \n",
       "3996 -0.040992 -0.081775     13111  \n",
       "3997 -0.040992 -0.081775     13112  \n",
       "3998 -0.040992 -0.081775     13113  \n",
       "3999 -0.040992 -0.081775     13114  \n",
       "\n",
       "[4000 rows x 15 columns]"
      ]
     },
     "execution_count": 43,
     "metadata": {},
     "output_type": "execute_result"
    }
   ],
   "source": [
    "new_prediction_data"
   ]
  },
  {
   "cell_type": "code",
   "execution_count": 28,
   "id": "16fec2eb",
   "metadata": {},
   "outputs": [],
   "source": [
    "max_prediction_length = 2000\n",
    "max_encoder_length = 2000\n",
    "\n",
    "time_varying_known_reals = ['time_idx','flag_ice','err_sla', 'ugosa', 'err_ugosa', 'vgosa', 'err_vgosa','sla', 'ugos', 'vgos']\n",
    "time_varying_unknown_reals = ['adt']\n",
    "\n",
    "\n",
    "\n",
    "\n",
    "\n",
    "new = TimeSeriesDataSet(\n",
    "    df[lambda x: x.time_idx <= 2000],\n",
    "    time_idx=\"time_idx\",\n",
    "    target=\"adt\",\n",
    "    group_ids=[\"latitude\", \"longitude\"],\n",
    "    categorical_encoders={\n",
    "         \"latitude\": NaNLabelEncoder(add_nan=True).fit(new_prediction_data[\"latitude\"]),\n",
    "         \"longitude\": NaNLabelEncoder(add_nan=True).fit(new_prediction_data[\"longitude\"])\n",
    "     },\n",
    "    min_encoder_length=max_encoder_length // 2,\n",
    "    max_encoder_length=max_encoder_length,\n",
    "    min_prediction_length=1,\n",
    "    max_prediction_length=max_prediction_length,\n",
    "    static_reals=[\"latitude\",\"longitude\"],\n",
    "    time_varying_known_reals= time_varying_known_reals,\n",
    "    time_varying_unknown_reals= time_varying_unknown_reals,\n",
    "    target_normalizer=GroupNormalizer(), \n",
    "    add_relative_time_idx=True,\n",
    "    add_target_scales=True,\n",
    "    add_encoder_length=True,\n",
    ")\n",
    "\n",
    "new_pred = TimeSeriesDataSet.from_dataset(new, new_prediction_data, predict=True, stop_randomization=True)\n",
    "\n",
    "new_pred = testing.to_dataloader(train=False, batch_size=batch_size, num_workers=0)"
   ]
  },
  {
   "cell_type": "code",
   "execution_count": 29,
   "id": "6893ad38",
   "metadata": {},
   "outputs": [
    {
     "name": "stderr",
     "output_type": "stream",
     "text": [
      "LOCAL_RANK: 0 - CUDA_VISIBLE_DEVICES: [0,1]\n"
     ]
    },
    {
     "data": {
      "image/png": "[encoded data removed]",
      "text/plain": [
       "<Figure size 432x288 with 2 Axes>"
      ]
     },
     "execution_count": 29,
     "metadata": {},
     "output_type": "execute_result"
    },
    {
     "data": {
      "image/png": "[encoded data removed]",
      "text/plain": [
       "<Figure size 432x288 with 2 Axes>"
      ]
     },
     "metadata": {
      "needs_background": "light"
     },
     "output_type": "display_data"
    }
   ],
   "source": [
    "new_raw_predictions = best_tft.predict(new_pred, mode=\"raw\", return_x=True)\n",
    "best_tft.plot_prediction(new_raw_predictions.x, new_raw_predictions.output, idx=0, show_future_observed=False)"
   ]
  },
  {
   "cell_type": "code",
   "execution_count": 38,
   "id": "fa754aed",
   "metadata": {},
   "outputs": [],
   "source": [
    "sla_outputs = best_tft.predict(new_pred, return_y=False, trainer_kwargs=dict(accelerator=\"cpu\"))"
   ]
  },
  {
   "cell_type": "code",
   "execution_count": 39,
   "metadata": {},
   "outputs": [],
   "source": [
    "k=sla_outputs.numpy()"
   ]
  },
  {
   "cell_type": "code",
   "execution_count": 40,
   "id": "8728f2b5",
   "metadata": {},
   "outputs": [],
   "source": [
    "k = k.tolist()"
   ]
  },
  {
   "cell_type": "code",
   "execution_count": 41,
   "id": "24cd8b21",
   "metadata": {},
   "outputs": [
    {
     "data": {
      "text/plain": [
       "2000"
      ]
     },
     "execution_count": 41,
     "metadata": {},
     "output_type": "execute_result"
    }
   ],
   "source": [
    "len(k[0])"
   ]
  },
  {
   "cell_type": "code",
   "execution_count": 44,
   "id": "4810d3ac",
   "metadata": {},
   "outputs": [],
   "source": [
    "new_prediction_data['adt'][2000:4000] = k[0]"
   ]
  },
  {
   "cell_type": "code",
   "execution_count": 45,
   "id": "0f5506a9",
   "metadata": {},
   "outputs": [
    {
     "data": {
      "text/html": [
       "<div>\n",
       "<style scoped>\n",
       "    .dataframe tbody tr th:only-of-type {\n",
       "        vertical-align: middle;\n",
       "    }\n",
       "\n",
       "    .dataframe tbody tr th {\n",
       "        vertical-align: top;\n",
       "    }\n",
       "\n",
       "    .dataframe thead th {\n",
       "        text-align: right;\n",
       "    }\n",
       "</style>\n",
       "<table border=\"1\" class=\"dataframe\">\n",
       "  <thead>\n",
       "    <tr style=\"text-align: right;\">\n",
       "      <th></th>\n",
       "      <th>latitude</th>\n",
       "      <th>longitude</th>\n",
       "      <th>adt</th>\n",
       "      <th>err_sla</th>\n",
       "      <th>err_ugosa</th>\n",
       "      <th>err_vgosa</th>\n",
       "      <th>flag_ice</th>\n",
       "      <th>sla</th>\n",
       "      <th>tpa_correction</th>\n",
       "      <th>ugos</th>\n",
       "      <th>ugosa</th>\n",
       "      <th>vgos</th>\n",
       "      <th>vgosa</th>\n",
       "      <th>time_idx</th>\n",
       "    </tr>\n",
       "    <tr>\n",
       "      <th>year</th>\n",
       "      <th></th>\n",
       "      <th></th>\n",
       "      <th></th>\n",
       "      <th></th>\n",
       "      <th></th>\n",
       "      <th></th>\n",
       "      <th></th>\n",
       "      <th></th>\n",
       "      <th></th>\n",
       "      <th></th>\n",
       "      <th></th>\n",
       "      <th></th>\n",
       "      <th></th>\n",
       "      <th></th>\n",
       "    </tr>\n",
       "  </thead>\n",
       "  <tbody>\n",
       "    <tr>\n",
       "      <th>2017</th>\n",
       "      <td>4.0</td>\n",
       "      <td>73.25</td>\n",
       "      <td>0.803800</td>\n",
       "      <td>0.015638</td>\n",
       "      <td>0.048016</td>\n",
       "      <td>0.041316</td>\n",
       "      <td>0.0</td>\n",
       "      <td>0.035652</td>\n",
       "      <td>0.0</td>\n",
       "      <td>-0.143915</td>\n",
       "      <td>-0.144153</td>\n",
       "      <td>0.153791</td>\n",
       "      <td>0.113009</td>\n",
       "      <td>9122.5</td>\n",
       "    </tr>\n",
       "    <tr>\n",
       "      <th>2018</th>\n",
       "      <td>4.0</td>\n",
       "      <td>73.25</td>\n",
       "      <td>0.838342</td>\n",
       "      <td>0.014764</td>\n",
       "      <td>0.045652</td>\n",
       "      <td>0.040315</td>\n",
       "      <td>0.0</td>\n",
       "      <td>0.070194</td>\n",
       "      <td>0.0</td>\n",
       "      <td>-0.013998</td>\n",
       "      <td>-0.014237</td>\n",
       "      <td>0.043694</td>\n",
       "      <td>0.002911</td>\n",
       "      <td>9313.0</td>\n",
       "    </tr>\n",
       "    <tr>\n",
       "      <th>2019</th>\n",
       "      <td>4.0</td>\n",
       "      <td>73.25</td>\n",
       "      <td>0.879908</td>\n",
       "      <td>0.015329</td>\n",
       "      <td>0.047085</td>\n",
       "      <td>0.040922</td>\n",
       "      <td>0.0</td>\n",
       "      <td>0.111760</td>\n",
       "      <td>0.0</td>\n",
       "      <td>-0.024627</td>\n",
       "      <td>-0.024865</td>\n",
       "      <td>0.029441</td>\n",
       "      <td>-0.011342</td>\n",
       "      <td>9678.0</td>\n",
       "    </tr>\n",
       "    <tr>\n",
       "      <th>2020</th>\n",
       "      <td>4.0</td>\n",
       "      <td>73.25</td>\n",
       "      <td>0.888170</td>\n",
       "      <td>0.015059</td>\n",
       "      <td>0.046551</td>\n",
       "      <td>0.041136</td>\n",
       "      <td>0.0</td>\n",
       "      <td>0.120022</td>\n",
       "      <td>0.0</td>\n",
       "      <td>0.023196</td>\n",
       "      <td>0.022957</td>\n",
       "      <td>0.016018</td>\n",
       "      <td>-0.024766</td>\n",
       "      <td>10043.5</td>\n",
       "    </tr>\n",
       "    <tr>\n",
       "      <th>2021</th>\n",
       "      <td>4.0</td>\n",
       "      <td>73.25</td>\n",
       "      <td>0.887671</td>\n",
       "      <td>0.014774</td>\n",
       "      <td>0.046116</td>\n",
       "      <td>0.040492</td>\n",
       "      <td>0.0</td>\n",
       "      <td>0.119523</td>\n",
       "      <td>0.0</td>\n",
       "      <td>-0.002797</td>\n",
       "      <td>-0.003036</td>\n",
       "      <td>0.069551</td>\n",
       "      <td>0.028768</td>\n",
       "      <td>10409.0</td>\n",
       "    </tr>\n",
       "    <tr>\n",
       "      <th>2022</th>\n",
       "      <td>4.0</td>\n",
       "      <td>73.25</td>\n",
       "      <td>0.853626</td>\n",
       "      <td>0.014792</td>\n",
       "      <td>0.046180</td>\n",
       "      <td>0.040703</td>\n",
       "      <td>0.0</td>\n",
       "      <td>0.085478</td>\n",
       "      <td>0.0</td>\n",
       "      <td>0.011852</td>\n",
       "      <td>0.011613</td>\n",
       "      <td>0.067559</td>\n",
       "      <td>0.026775</td>\n",
       "      <td>10774.0</td>\n",
       "    </tr>\n",
       "    <tr>\n",
       "      <th>2023</th>\n",
       "      <td>4.0</td>\n",
       "      <td>73.25</td>\n",
       "      <td>0.857948</td>\n",
       "      <td>0.013673</td>\n",
       "      <td>0.043606</td>\n",
       "      <td>0.039118</td>\n",
       "      <td>0.0</td>\n",
       "      <td>0.094267</td>\n",
       "      <td>0.0</td>\n",
       "      <td>-0.026672</td>\n",
       "      <td>-0.026910</td>\n",
       "      <td>0.024592</td>\n",
       "      <td>-0.016191</td>\n",
       "      <td>11139.0</td>\n",
       "    </tr>\n",
       "    <tr>\n",
       "      <th>2024</th>\n",
       "      <td>4.0</td>\n",
       "      <td>73.25</td>\n",
       "      <td>0.838621</td>\n",
       "      <td>0.012604</td>\n",
       "      <td>0.041488</td>\n",
       "      <td>0.038035</td>\n",
       "      <td>0.0</td>\n",
       "      <td>0.086199</td>\n",
       "      <td>0.0</td>\n",
       "      <td>0.075947</td>\n",
       "      <td>0.075710</td>\n",
       "      <td>-0.040992</td>\n",
       "      <td>-0.081775</td>\n",
       "      <td>11504.5</td>\n",
       "    </tr>\n",
       "    <tr>\n",
       "      <th>2025</th>\n",
       "      <td>4.0</td>\n",
       "      <td>73.25</td>\n",
       "      <td>0.878914</td>\n",
       "      <td>0.012604</td>\n",
       "      <td>0.041488</td>\n",
       "      <td>0.038035</td>\n",
       "      <td>0.0</td>\n",
       "      <td>0.086199</td>\n",
       "      <td>0.0</td>\n",
       "      <td>0.075947</td>\n",
       "      <td>0.075710</td>\n",
       "      <td>-0.040992</td>\n",
       "      <td>-0.081775</td>\n",
       "      <td>11870.0</td>\n",
       "    </tr>\n",
       "    <tr>\n",
       "      <th>2026</th>\n",
       "      <td>4.0</td>\n",
       "      <td>73.25</td>\n",
       "      <td>0.878016</td>\n",
       "      <td>0.012604</td>\n",
       "      <td>0.041488</td>\n",
       "      <td>0.038035</td>\n",
       "      <td>0.0</td>\n",
       "      <td>0.086199</td>\n",
       "      <td>0.0</td>\n",
       "      <td>0.075947</td>\n",
       "      <td>0.075710</td>\n",
       "      <td>-0.040992</td>\n",
       "      <td>-0.081775</td>\n",
       "      <td>12235.0</td>\n",
       "    </tr>\n",
       "    <tr>\n",
       "      <th>2027</th>\n",
       "      <td>4.0</td>\n",
       "      <td>73.25</td>\n",
       "      <td>0.856846</td>\n",
       "      <td>0.012604</td>\n",
       "      <td>0.041488</td>\n",
       "      <td>0.038035</td>\n",
       "      <td>0.0</td>\n",
       "      <td>0.086199</td>\n",
       "      <td>0.0</td>\n",
       "      <td>0.075947</td>\n",
       "      <td>0.075710</td>\n",
       "      <td>-0.040992</td>\n",
       "      <td>-0.081775</td>\n",
       "      <td>12600.0</td>\n",
       "    </tr>\n",
       "    <tr>\n",
       "      <th>2028</th>\n",
       "      <td>4.0</td>\n",
       "      <td>73.25</td>\n",
       "      <td>0.834501</td>\n",
       "      <td>0.012604</td>\n",
       "      <td>0.041488</td>\n",
       "      <td>0.038035</td>\n",
       "      <td>0.0</td>\n",
       "      <td>0.086199</td>\n",
       "      <td>0.0</td>\n",
       "      <td>0.075947</td>\n",
       "      <td>0.075710</td>\n",
       "      <td>-0.040992</td>\n",
       "      <td>-0.081775</td>\n",
       "      <td>12948.5</td>\n",
       "    </tr>\n",
       "  </tbody>\n",
       "</table>\n",
       "</div>"
      ],
      "text/plain": [
       "      latitude  longitude       adt   err_sla  err_ugosa  err_vgosa  flag_ice  \\\n",
       "year                                                                            \n",
       "2017       4.0      73.25  0.803800  0.015638   0.048016   0.041316       0.0   \n",
       "2018       4.0      73.25  0.838342  0.014764   0.045652   0.040315       0.0   \n",
       "2019       4.0      73.25  0.879908  0.015329   0.047085   0.040922       0.0   \n",
       "2020       4.0      73.25  0.888170  0.015059   0.046551   0.041136       0.0   \n",
       "2021       4.0      73.25  0.887671  0.014774   0.046116   0.040492       0.0   \n",
       "2022       4.0      73.25  0.853626  0.014792   0.046180   0.040703       0.0   \n",
       "2023       4.0      73.25  0.857948  0.013673   0.043606   0.039118       0.0   \n",
       "2024       4.0      73.25  0.838621  0.012604   0.041488   0.038035       0.0   \n",
       "2025       4.0      73.25  0.878914  0.012604   0.041488   0.038035       0.0   \n",
       "2026       4.0      73.25  0.878016  0.012604   0.041488   0.038035       0.0   \n",
       "2027       4.0      73.25  0.856846  0.012604   0.041488   0.038035       0.0   \n",
       "2028       4.0      73.25  0.834501  0.012604   0.041488   0.038035       0.0   \n",
       "\n",
       "           sla  tpa_correction      ugos     ugosa      vgos     vgosa  \\\n",
       "year                                                                     \n",
       "2017  0.035652             0.0 -0.143915 -0.144153  0.153791  0.113009   \n",
       "2018  0.070194             0.0 -0.013998 -0.014237  0.043694  0.002911   \n",
       "2019  0.111760             0.0 -0.024627 -0.024865  0.029441 -0.011342   \n",
       "2020  0.120022             0.0  0.023196  0.022957  0.016018 -0.024766   \n",
       "2021  0.119523             0.0 -0.002797 -0.003036  0.069551  0.028768   \n",
       "2022  0.085478             0.0  0.011852  0.011613  0.067559  0.026775   \n",
       "2023  0.094267             0.0 -0.026672 -0.026910  0.024592 -0.016191   \n",
       "2024  0.086199             0.0  0.075947  0.075710 -0.040992 -0.081775   \n",
       "2025  0.086199             0.0  0.075947  0.075710 -0.040992 -0.081775   \n",
       "2026  0.086199             0.0  0.075947  0.075710 -0.040992 -0.081775   \n",
       "2027  0.086199             0.0  0.075947  0.075710 -0.040992 -0.081775   \n",
       "2028  0.086199             0.0  0.075947  0.075710 -0.040992 -0.081775   \n",
       "\n",
       "      time_idx  \n",
       "year            \n",
       "2017    9122.5  \n",
       "2018    9313.0  \n",
       "2019    9678.0  \n",
       "2020   10043.5  \n",
       "2021   10409.0  \n",
       "2022   10774.0  \n",
       "2023   11139.0  \n",
       "2024   11504.5  \n",
       "2025   11870.0  \n",
       "2026   12235.0  \n",
       "2027   12600.0  \n",
       "2028   12948.5  "
      ]
     },
     "execution_count": 45,
     "metadata": {},
     "output_type": "execute_result"
    }
   ],
   "source": [
    "# Assuming df is your DataFrame with 'time' and 'sea_level' columns\n",
    "# Convert 'time' column to datetime\n",
    "new_prediction_data['time'] = pd.to_datetime(new_prediction_data['time'])\n",
    "\n",
    "# Extract year from the datetime objects\n",
    "new_prediction_data['year'] = new_prediction_data['time'].dt.year\n",
    "\n",
    "# Group by year and calculate the mean sea level for each year\n",
    "new_prediction_data = new_prediction_data.groupby('year').mean()\n",
    "new_prediction_data"
   ]
  },
  {
   "cell_type": "code",
   "execution_count": 46,
   "id": "328a4816",
   "metadata": {},
   "outputs": [
    {
     "name": "stdout",
     "output_type": "stream",
     "text": [
      "DataFrame is written to Excel File successfully.\n"
     ]
    }
   ],
   "source": [
    "# Specify your Excel file name\n",
    "file_name = 'ADT_predictions.xlsx'\n",
    "\n",
    "# Export DataFrame to Excel\n",
    "new_prediction_data.to_excel(file_name, index=False)\n",
    "\n",
    "print(f'DataFrame is written to Excel File successfully.')\n"
   ]
  }
 ],
 "metadata": {
  "kernelspec": {
   "display_name": "Python 3",
   "language": "python",
   "name": "python3"
  },
  "language_info": {
   "codemirror_mode": {
    "name": "ipython",
    "version": 3
   },
   "file_extension": ".py",
   "mimetype": "text/x-python",
   "name": "python",
   "nbconvert_exporter": "python",
   "pygments_lexer": "ipython3",
   "version": "3.10.12"
  }
 },
 "nbformat": 4,
 "nbformat_minor": 5
}
